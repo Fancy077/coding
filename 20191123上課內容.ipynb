{
 "cells": [
  {
   "cell_type": "code",
   "execution_count": 8,
   "metadata": {},
   "outputs": [
    {
     "name": "stdout",
     "output_type": "stream",
     "text": [
      "[<a href=\"/bbs/Beauty/M.1574488123.A.E4D.html\">[正妹] 真可愛~</a>, <a href=\"/bbs/Beauty/search?q=thread%3A%5B%E6%AD%A3%E5%A6%B9%5D+%E7%9C%9F%E5%8F%AF%E6%84%9B~\">搜尋同標題文章</a>, <a href=\"/bbs/Beauty/search?q=author%3AAmedRosario\">搜尋看板內 AmedRosario 的文章</a>, <a href=\"/bbs/Beauty/M.1574489164.A.722.html\">[正妹] 肉肉臉</a>, <a href=\"/bbs/Beauty/search?q=thread%3A%5B%E6%AD%A3%E5%A6%B9%5D+%E8%82%89%E8%82%89%E8%87%89\">搜尋同標題文章</a>, <a href=\"/bbs/Beauty/search?q=author%3AINNNNNNNNNNN\">搜尋看板內 INNNNNNNNNNN 的文章</a>, <a href=\"/bbs/Beauty/M.1574489940.A.5E1.html\">[帥哥] 岡田龍太郎</a>, <a href=\"/bbs/Beauty/search?q=thread%3A%5B%E5%B8%A5%E5%93%A5%5D+%E5%B2%A1%E7%94%B0%E9%BE%8D%E5%A4%AA%E9%83%8E\">搜尋同標題文章</a>, <a href=\"/bbs/Beauty/search?q=author%3ALSLLtu\">搜尋看板內 LSLLtu 的文章</a>, <a href=\"/bbs/Beauty/M.1558415952.A.8D7.html\">[公告] 不願上表特 ＆ 優文推薦 ＆ 檢舉建議專區</a>, <a href=\"/bbs/Beauty/search?q=thread%3A%5B%E5%85%AC%E5%91%8A%5D+%E4%B8%8D%E9%A1%98%E4%B8%8A%E8%A1%A8%E7%89%B9+%EF%BC%86+%E5%84%AA%E6%96%87%E6%8E%A8%E8%96%A6+%EF%BC%86+%E6%AA%A2%E8%88%89%E5%BB%BA%E8%AD%B0%E5%B0%88%E5%8D%80\">搜尋同標題文章</a>, <a href=\"/bbs/Beauty/search?q=author%3AhateOnas\">搜尋看板內 hateOnas 的文章</a>, <a href=\"/bbs/Beauty/M.1563960846.A.05A.html\">Fw: [公告] 請使用者多加注意我國保護兒少的法令</a>, <a href=\"/bbs/Beauty/search?q=thread%3A%5B%E5%85%AC%E5%91%8A%5D+%E8%AB%8B%E4%BD%BF%E7%94%A8%E8%80%85%E5%A4%9A%E5%8A%A0%E6%B3%A8%E6%84%8F%E6%88%91%E5%9C%8B%E4%BF%9D%E8%AD%B7%E5%85%92%E5%B0%91%E7%9A%84%E6%B3%95%E4%BB%A4\">搜尋同標題文章</a>, <a href=\"/bbs/Beauty/search?q=author%3AhateOnas\">搜尋看板內 hateOnas 的文章</a>, <a href=\"/bbs/Beauty/M.1564114881.A.155.html\">[公告] 表特板板規(2019.7.26)</a>, <a href=\"/bbs/Beauty/search?q=thread%3A%5B%E5%85%AC%E5%91%8A%5D+%E8%A1%A8%E7%89%B9%E6%9D%BF%E6%9D%BF%E8%A6%8F%282019.7.26%29\">搜尋同標題文章</a>, <a href=\"/bbs/Beauty/search?q=author%3AhateOnas\">搜尋看板內 hateOnas 的文章</a>, <a href=\"/bbs/Beauty/M.1564117458.A.1AF.html\">[公告] 201907 板主徵選延長</a>, <a href=\"/bbs/Beauty/search?q=thread%3A%5B%E5%85%AC%E5%91%8A%5D+201907+%E6%9D%BF%E4%B8%BB%E5%BE%B5%E9%81%B8%E5%BB%B6%E9%95%B7\">搜尋同標題文章</a>, <a href=\"/bbs/Beauty/search?q=author%3AhateOnas\">搜尋看板內 hateOnas 的文章</a>]\n"
     ]
    },
    {
     "ename": "NameError",
     "evalue": "name 's' is not defined",
     "output_type": "error",
     "traceback": [
      "\u001b[1;31m---------------------------------------------------------------------------\u001b[0m",
      "\u001b[1;31mNameError\u001b[0m                                 Traceback (most recent call last)",
      "\u001b[1;32m<ipython-input-8-82188f3bd9a6>\u001b[0m in \u001b[0;36m<module>\u001b[1;34m\u001b[0m\n\u001b[0;32m      8\u001b[0m \u001b[0marticle\u001b[0m \u001b[1;33m=\u001b[0m \u001b[0msoup\u001b[0m\u001b[1;33m.\u001b[0m\u001b[0mselect\u001b[0m\u001b[1;33m(\u001b[0m\u001b[1;34m\"div.r-ent a\"\u001b[0m\u001b[1;33m)\u001b[0m\u001b[1;33m\u001b[0m\u001b[1;33m\u001b[0m\u001b[0m\n\u001b[0;32m      9\u001b[0m \u001b[0mprint\u001b[0m\u001b[1;33m(\u001b[0m\u001b[0marticle\u001b[0m\u001b[1;33m)\u001b[0m\u001b[1;33m\u001b[0m\u001b[1;33m\u001b[0m\u001b[0m\n\u001b[1;32m---> 10\u001b[1;33m \u001b[1;32mfor\u001b[0m \u001b[0mi\u001b[0m \u001b[1;32min\u001b[0m \u001b[0mrange\u001b[0m\u001b[1;33m(\u001b[0m\u001b[0ms\u001b[0m\u001b[1;33m)\u001b[0m\u001b[1;33m:\u001b[0m\u001b[1;33m\u001b[0m\u001b[1;33m\u001b[0m\u001b[0m\n\u001b[0m\u001b[0;32m     11\u001b[0m     \u001b[0murl\u001b[0m \u001b[1;33m=\u001b[0m \u001b[1;34m\"https://www.ptt.cc\"\u001b[0m\u001b[1;33m+\u001b[0m\u001b[0mi\u001b[0m\u001b[1;33m[\u001b[0m\u001b[1;34m'href'\u001b[0m\u001b[1;33m]\u001b[0m\u001b[1;33m\u001b[0m\u001b[1;33m\u001b[0m\u001b[0m\n\u001b[0;32m     12\u001b[0m     \u001b[0mreq\u001b[0m \u001b[1;33m=\u001b[0m \u001b[0mrequests\u001b[0m\u001b[1;33m.\u001b[0m\u001b[0mget\u001b[0m\u001b[1;33m(\u001b[0m\u001b[0murl\u001b[0m\u001b[1;33m,\u001b[0m\u001b[0mcookies\u001b[0m\u001b[1;33m=\u001b[0m\u001b[1;33m{\u001b[0m\u001b[1;34m'over18'\u001b[0m\u001b[1;33m:\u001b[0m\u001b[1;34m'1'\u001b[0m\u001b[1;33m}\u001b[0m\u001b[1;33m)\u001b[0m\u001b[1;33m.\u001b[0m\u001b[0mtext\u001b[0m\u001b[1;33m\u001b[0m\u001b[1;33m\u001b[0m\u001b[0m\n",
      "\u001b[1;31mNameError\u001b[0m: name 's' is not defined"
     ]
    }
   ],
   "source": [
    "import requests\n",
    "import re\n",
    "from bs4 import BeautifulSoup\n",
    "from urllib.request import urlretrieve\n",
    "url = \"https://www.ptt.cc/bbs/Beauty/index.html\"\n",
    "req = requests.get(url,cookies={'over18':'1'}).text\n",
    "soup = BeautifulSoup(req,\"html.parser\")\n",
    "article = soup.select(\"div.r-ent a\")\n",
    "print(article)\n",
    "for i in article:\n",
    "    url = \"https://www.ptt.cc\"+i['href']\n",
    "    req = requests.get(url,cookies={'over18':'1'}).text\n",
    "    soup = BeautifulSoup(req,\"html.parser\")\n",
    "    if len(soup.findAll('a',{'href':re.compile('https:\\/\\/i\\.imgur\\.com\\/.*')})) > 0:\n",
    "        for index, img_url in enumerate(soup.findAll('a', {'href':re.compile('https:\\/\\/i\\.imgur\\.com\\/.*')})):\n",
    "            try:\n",
    "                urlretrieve(img_url['href'], 'd:\\{}_{}.jpg' .format(i.text,index))\n",
    "            except:\n",
    "                print('{} {}_{}.jpg 下載失敗' .format(img_url['href'],i.text,index))"
   ]
  },
  {
   "cell_type": "code",
   "execution_count": null,
   "metadata": {},
   "outputs": [],
   "source": []
  }
 ],
 "metadata": {
  "kernelspec": {
   "display_name": "Python 3",
   "language": "python",
   "name": "python3"
  },
  "language_info": {
   "codemirror_mode": {
    "name": "ipython",
    "version": 3
   },
   "file_extension": ".py",
   "mimetype": "text/x-python",
   "name": "python",
   "nbconvert_exporter": "python",
   "pygments_lexer": "ipython3",
   "version": "3.7.3"
  }
 },
 "nbformat": 4,
 "nbformat_minor": 2
}
